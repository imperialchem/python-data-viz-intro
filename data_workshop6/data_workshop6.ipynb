{
 "cells": [
  {
   "cell_type": "markdown",
   "metadata": {},
   "source": [
    "# An Introduction to Plotting and Data Analysis in Python 6"
   ]
  },
  {
   "cell_type": "markdown",
   "metadata": {},
   "source": [
    "Clyde Fare and João Pedro Malhado, Imperial College London, (contact: [python@imperial.ac.uk](mailto:python@imperial.ac.uk))\n",
    "\n",
    "This notebook includes experimental data provided by Zita Martins, and is licensed under a [Creative Commons Attribution 4.0 (CC-by) license](http://creativecommons.org/licenses/by/4.0/)"
   ]
  },
  {
   "cell_type": "markdown",
   "metadata": {},
   "source": [
    "For this problem set, instead of solving the exercises on this notebook, create a new separate notebook for your answers (you can do this from the *dashboard* - the browser window you launched this notebook from). Choose appropriate headings, and give your answers by providing the code cells and outputs, as well as commenting on [markdown cells](https://jupyter-notebook.readthedocs.io/en/stable/examples/Notebook/Working%20With%20Markdown%20Cells.html) (and try some [simple equations](https://en.wikibooks.org/wiki/LaTeX/Mathematics#Greek_letters) if you want).\n",
    "\n",
    "Don't forget to import *pylab* and the `curve_fit`function from the *scipy* module.\n",
    "\n",
    "    from pylab import *\n",
    "    from scipy.optimize import curve_fit"
   ]
  },
  {
   "cell_type": "markdown",
   "metadata": {},
   "source": [
    "## Exercise 1"
   ]
  },
  {
   "cell_type": "markdown",
   "metadata": {},
   "source": [
    "The file [chromatogram_ion126.dat](files/chromatogram_ion126.dat) contains data from an experiment combining gas chromatography with a mass spectrometer. The experiment aims to determine the amount of the glycine present in a sample of ice. The first column of the data corresponds to the time after the sample is injected into the column (units are minutes), the second column corresponds to the intensity measured by the  mass spectrometer (units are counts of detector hits per minute).\n",
    "\n",
    "* In one figure plot the full chromatogram\n",
    "* In a second figure create a plot zoomed in on the largest peak (this peak marks the point when glycine reached the mass spectrometer)."
   ]
  },
  {
   "cell_type": "markdown",
   "metadata": {},
   "source": [
    "The objective of the experiment is to determine the concentration of glycine in the sample. When the instrument was calibrated the  following relationship between the number of moles of glycine in a sample and the area under the subsequent chromatogram peak was determined as:\n",
    "\n",
    "$$\\frac{A_{\\text{gly}}}{A_{\\text{std}}}= 8.33 \\times 10^4 \\times n_{\\text{gly}} - 7 \\times 10^{-4} ,$$\n",
    "\n",
    "where:\n",
    "*A<sub>gly</sub>* is the area under the glycine peak, \n",
    "*n<sub>gly</sub>* is the number of moles of glycine\n",
    "*A<sub>std</sub>* is a calibration constant equal to 9.538 &times; 10<sup>6</sup> counts.\n",
    "\n",
    "The area under the glycine peak can be calculated in a variery of ways, here we will do so by fitting a function to the peak then determining the area under the function. If you inspect the peak above you will notice that it is asymmetric, with a very fast rise from about zero up to it's maximum value and a comparativelly slower decay back down to zero.\n",
    "\n",
    "This behaviour can be captured with the following function\n",
    "\n",
    "$$f(t)=a (t-t_0) e^{-\\frac{t-t_0}{b}} ,$$\n",
    "\n",
    "where\n",
    "*t<sub>0</sub>* corresponds to the time the peak starts, *a* is a parameter controlling the rise and hight of the peak and *b* is a parameter  controling the decay of the peak. \n",
    "\n",
    "The area under such a function is:\n",
    "\n",
    "$$Area=a b^2 .$$\n",
    "\n",
    "* Fit the function to your data (For convenience the fitting function *gly_intensity* is given in the cell below).\n",
    "* Plot the experimental data and the fitted curve on the same figure to check the fit is sensible.\n",
    "* Determine the area under the peak"
   ]
  },
  {
   "cell_type": "code",
   "execution_count": null,
   "metadata": {},
   "outputs": [],
   "source": [
    "def gly_intensity(t,a,b,t0):\n",
    "    \"Fitting function allowing a fast rise and a slow exponential tail\"\n",
    "    x=(abs(t-t0)+(t-t0))/2. # This is a trick used so that the function returns 0 when t<t0. Can you understand what is being done?\n",
    "    return a*x*e**(-x/b)"
   ]
  },
  {
   "cell_type": "markdown",
   "metadata": {},
   "source": [
    "* Plot and comment on the residuals of your fitted curve. Do you have any ideas for an improved fitting function you would like to try?"
   ]
  },
  {
   "cell_type": "markdown",
   "metadata": {},
   "source": [
    "* What is the concentration of glycine in the original sample knowing 1 &mu;l was injected in the chromatograph?"
   ]
  },
  {
   "cell_type": "markdown",
   "metadata": {},
   "source": [
    "## Exercise 2"
   ]
  },
  {
   "cell_type": "markdown",
   "metadata": {},
   "source": [
    "The following mathematical function *g1* corresponds to a Gaussian curve:\n",
    "\n",
    "$$g1(x,a,s,x0)=a e^{-\\frac{(x-x0)^2}{2 s^2}} .$$\n",
    "\n",
    "Function *g2* is a sum of two Gaussian curves. \n",
    "\n",
    "We are setting the *a* and *s* parameters to be equal for both Gaussians and the *x0* of one gaussian to be minus the *x0* of the other:\n",
    "\n",
    "$$g2(x,a,s,d)=g1(x,a,s,d)+g1(x,a,s,-d)=a \\left(e^{-\\frac{(x+d)^2}{2 s^2}}+e^{-\\frac{(x-d)^2}{2 s^2}}\\right) .$$\n",
    "\n",
    "* Define python function corresponding to function *g1*.\n",
    "\n",
    "* Use your *g1* function to define a second function for *g2*.\n",
    "\n",
    "* Use this to produce several plots of *g2* against *x* using different values of the parameters to identify the effect of the parameters on the curve.\n",
    "\n",
    "* Use a 3d plot or a projected plot to visualise *g2* as a function of both *x* and *d* simultaneously."
   ]
  },
  {
   "cell_type": "markdown",
   "metadata": {},
   "source": [
    "## Exercise 3"
   ]
  },
  {
   "cell_type": "markdown",
   "metadata": {},
   "source": [
    "A molecule can be promoted to an excited state by absorbing light. Once in that excited state it can then fall back to it's original state by emitting light - a process called fluorescence. The wavelength of the emitted light depends on the properties of the molecule and a great deal of information about a molecule can be determine by examining the light it emits.\n",
    "\n",
    "The file [anthracene_fluo.dat](files/anthracene_fluo.dat) contains data for the emission spectrum of a solution of [anthracene](http://en.wikipedia.org/wiki/Anthracene) in cyclohexane. The first column corresponds to the wavelength of the emitted light (in units of nanometers) and the second column corresponds to the intensity of the emitted light (units are arbitrary). Note that the file has a preamble with some technical details about the spectrum before the data starts. This is fairly normal for files output by spectrometers. Use the *skiprows* option from loadtxt() to load the file's data.\n",
    "\n",
    "* Load the data and plot the full spectrum."
   ]
  },
  {
   "cell_type": "markdown",
   "metadata": {},
   "source": [
    "* Construct a function that will suitably fit the full spectrum. (Note: In spectroscopy it is common practice to fit distinct peaks of a spectrum using Gaussian functions.)\n",
    "\n",
    "* Fit the function to the spectrum data and plot both spectrum and fitted function together on a single figure.\n",
    "\n",
    "* Using the parameters you've extracted from your fitting procedure, add to the previous figure plots of the individual peaks that form the spectrum."
   ]
  },
  {
   "cell_type": "markdown",
   "metadata": {},
   "source": [
    "With the exception of the peak centered at around 340 nm and the broad less intense peak centred around 475 nm (which are due to different phenomena occuring during the experiment), all other peaks form what is called a vibronic progression of the anthracene molecule.\n",
    "\n",
    "* Plot the wavelength corresponding to the centre of each of the peaks of anthracene against peak number counting from lower wavelengths and comment on your result.\n",
    "\n",
    "The results you have obtained relate to the vibration of the molecule -you will learn much more about this phenomena later on during the degree."
   ]
  },
  {
   "cell_type": "markdown",
   "metadata": {},
   "source": [
    "### If you have time and are feeling adventurous"
   ]
  },
  {
   "cell_type": "markdown",
   "metadata": {},
   "source": [
    "Depending on the number of gaussians you used to fit the spectrum you should have obtained a rather good fit. However, you can do better! If you zoom on the peak centred around 375nm, you will see the fit is not great because the peak has a shoulder, it is actually formed by two peaks. In fact, each of the 4 more intense apparent peaks is formed by two underlying peaks corresponding to two closely overlapping vibronic progressions. Improve your fitting function such as to capture both vibronic progressions and you will obtain a noticiably better fit. \n",
    "\n",
    "Now that you are capturing both sets of vibronic progressions you can produce two plots of the wavelengths vs. an integer index for the two progressions."
   ]
  }
 ],
 "metadata": {
  "kernelspec": {
   "display_name": "Python 3 (ipykernel)",
   "language": "python",
   "name": "python3"
  },
  "language_info": {
   "codemirror_mode": {
    "name": "ipython",
    "version": 3
   },
   "file_extension": ".py",
   "mimetype": "text/x-python",
   "name": "python",
   "nbconvert_exporter": "python",
   "pygments_lexer": "ipython3",
   "version": "3.11.2"
  }
 },
 "nbformat": 4,
 "nbformat_minor": 1
}
