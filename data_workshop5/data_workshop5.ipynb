{
 "cells": [
  {
   "cell_type": "markdown",
   "metadata": {},
   "source": [
    "# An Introduction to Plotting and Data Analysis in Python - workshop 5"
   ]
  },
  {
   "cell_type": "markdown",
   "metadata": {},
   "source": [
    "Clyde Fare and João Pedro Malhado, Imperial College London (contact: [chemistry-git@imperial.ac.uk](chemistry-git@imperial.ac.uk))\n",
    "\n",
    "Exercise 1 uses material adapted from work by Paul Wilde. Exercise 2 is adapted and uses the dataset from the article <a href=\"http://dx.doi.org/10.2307/2682899\">F. J. Anscombe, The American Statistician, 27(1):17-21 (1973)</a>. This notebook is licensed under a [Creative Commons Attribution 4.0 (CC-by) license](http://creativecommons.org/licenses/by/4.0/)"
   ]
  },
  {
   "cell_type": "markdown",
   "metadata": {},
   "source": [
    "Let's import the pylab and non-linear fitting machinery and get that out of the way."
   ]
  },
  {
   "cell_type": "code",
   "execution_count": 0,
   "metadata": {},
   "outputs": [],
   "source": [
    "from pylab import *\n",
    "from scipy.optimize import curve_fit"
   ]
  },
  {
   "cell_type": "markdown",
   "metadata": {},
   "source": [
    "## Exercise 1"
   ]
  },
  {
   "cell_type": "markdown",
   "metadata": {},
   "source": [
    "In this exercise we will be studying the kinetics of the decomposition reaction of N<sub>2</sub>O<sub>5</sub>\n",
    "\n",
    "$$2 N_2 O_{5 (g)} \\longrightarrow 4NO_{2 (g)} + O_{2 (g)}$$\n",
    "\n",
    "The rate of a chemical reaction is how fast the concentration of one of the reactants or products changes during the chemical reaction. In the case of the reaction under study the rate of the reaction is proportional to the concentration of N<sub>2</sub>O<sub>5</sub>, it is said to obey a first order rate law:\n",
    "\n",
    "$$rate=- \\frac{d[N_2 O_5]}{d t} =k [N_2 O_5] ,$$\n",
    "\n",
    "where *k* is the *rate constant*. This is a differential equation and its solution gives us the concentration of N<sub>2</sub>O<sub>5</sub> as a function of time.\n",
    "\n",
    "$$[N_2 O_5]=[N_2 O_5]_0 e^{-k t}￼$$\n",
    "\n",
    "where [N<sub>2</sub>O<sub>5</sub>]<sub>0</sub> is the initial concentration and *t* is the time. (If you want to know where the solution comes from click [here](https://wiki.ch.ic.ac.uk/wiki/index.php?title=Solving_the_Rate_Equation).)\n",
    "\n",
    "We are interested in determining the value of the rate constant *k*. In order to do this, the concentration of N<sub>2</sub>O<sub>5</sub> was recorded as a function of time at 65&deg;C, and stored in file [N2O5vst_65C.dat](files/N2O5vst_65C.dat), where the first column is time in seconds and the second column is concentration in mol.dm<sup>-3</sup>.\n",
    "\n",
    "* Load the data and plot the concentration of N<sub>2</sub>O<sub>5</sub> against time, label the axes and include the units in the label."
   ]
  },
  {
   "cell_type": "code",
   "execution_count": 0,
   "metadata": {},
   "outputs": [],
   "source": []
  },
  {
   "cell_type": "markdown",
   "metadata": {},
   "source": [
    "* Create an appropriate python function for the variation of [N<sub>2</sub>O<sub>5</sub>] with time that through non linear fitting will allow us to extract the rate constant\n",
    "\n",
    "* Fit the function to the data and report the value of the rate constant and the uncertainty associated with it. \n",
    "\n",
    "* Superimpose the fit with the experimental data to check your fit is meaningful."
   ]
  },
  {
   "cell_type": "code",
   "execution_count": null,
   "metadata": {},
   "outputs": [],
   "source": []
  },
  {
   "cell_type": "code",
   "execution_count": null,
   "metadata": {},
   "outputs": [],
   "source": []
  },
  {
   "cell_type": "code",
   "execution_count": null,
   "metadata": {},
   "outputs": [],
   "source": []
  },
  {
   "cell_type": "markdown",
   "metadata": {},
   "source": [
    "Some other colleagues followed the same procedure as above but at different temperatures. The following table shows values of the rate constant and its uncertainty for different temperatures.\n",
    "\n",
    "| T/&deg;C | k/s<sup>-1</sup> | &sigma;<sub>k</sub>/s<sup>-1</sup> |\n",
    "|----------|------------------|------------------------------------|\n",
    "| 20       | 0.0000188        | 0.0000089                          |\n",
    "| 30       | 0.0000694        | 0.0000073                          |\n",
    "| 40       | 0.000260         | 0.000023                           |\n",
    "| 50       | 0.000888         | 0.000067                           |\n",
    "| 60       | 0.00293          | 0.00021                            |\n",
    "\n",
    "The variation of the rate constant with temperature can give important information about the chemical reaction. The rate constant of an elementary reaction varies in general with temperature according to the Arrhenius equation that you will cover in more detail in your kinetics lectures\n",
    "\n",
    "$$k(T)=A e^{-\\frac{E_a}{R T}} ,$$\n",
    "\n",
    "where *E<sub>a</sub>* is activation energy, *A* is the so called pre-exponential factor (which is related to the frequency of molecular collisions) and *R* is the ideal gas constant.\n",
    "\n",
    "* Create an appropriate function that through non linear fitting will allow us to extract the pre-exponential factor and the activation energy.\n",
    "\n",
    "* From the rate constant values on the table above, and the rate constant value you have determined, fit the data to the determine the pre-exponential factor and the activation energy for this reaction. \n",
    "\n",
    "* Plot values predicted from your fitted function alongside the experimental values to visualise your result.\n",
    "\n",
    "*Note 1*: The uncertainties associated with each rate constant are different, you should take this into account. \n",
    "\n",
    "*Note 2*: Units of temperature must be consistent with units of *R*."
   ]
  },
  {
   "cell_type": "code",
   "execution_count": 0,
   "metadata": {},
   "outputs": [],
   "source": []
  },
  {
   "cell_type": "code",
   "execution_count": 0,
   "metadata": {},
   "outputs": [],
   "source": []
  },
  {
   "cell_type": "code",
   "execution_count": 0,
   "metadata": {},
   "outputs": [],
   "source": []
  },
  {
   "cell_type": "markdown",
   "metadata": {},
   "source": [
    "If you are having difficulties finding a suitable initial guess for the non-linear Arrhenius fit, or if you managed to extract your activation energy quickly try a different approach:\n",
    "\n",
    "The Arrhenius equation is a non-linear function of *T*, but can be converted into a linear form by taking the natural logarithm of both sides of the equation:\n",
    "\n",
    "$$\\ln(k)=\\ln(A)-\\frac{E_a}{R}\\frac{1}{T} .$$\n",
    "\n",
    "We obtain a linear relationship between $\\ln(k)$ and $\\frac{1}{T}$, where the intercept is $\\ln(A)$ and the slope $-\\frac{E_a}{R}$. It should be noted that it is only possible in a few cases to transform a non-linear equation into a linear one in this way.\n",
    "\n",
    "* Plot $\\ln(k)$ against $\\frac{1}{T}$\n",
    "* Use polyfit to extract the gradient and intercept of the $\\ln(k)$ vs. $\\frac{1}{T}$ data (ignore any uncertainties associated with the data when performing this fit) \n",
    "* Use these to determine the activation energy and the pre-exponential factor. \n",
    "* How do your results compare with the non-linear fit above?"
   ]
  },
  {
   "cell_type": "code",
   "execution_count": null,
   "metadata": {},
   "outputs": [],
   "source": []
  },
  {
   "cell_type": "code",
   "execution_count": null,
   "metadata": {},
   "outputs": [],
   "source": []
  },
  {
   "cell_type": "code",
   "execution_count": null,
   "metadata": {},
   "outputs": [],
   "source": []
  },
  {
   "cell_type": "markdown",
   "metadata": {},
   "source": [
    "In the previous question we performed a fit without taking the uncertainties associated with the data into account. This is equivalent to considering all the *ln(k)* data points have the same uncertainty. From the *T* vs *k* table above we know this is not the case, and we should take the uncertainties into account. Note however that *&sigma;<sub>k</sub>* is not the same as *&sigma;<sub>ln(k)</sub>*, and also *&sigma;<sub>ln(k)</sub>&ne;ln(&sigma;<sub>k</sub>)*! There are [general methods](http://en.wikipedia.org/wiki/Propagation_of_uncertainty#Simplification) to propagate the uncertainty of a value upon a mathematical operation. For the present purposes however, we will focus on the case of the logarithm at hand:\n",
    "\n",
    "$$\\sigma_{\\ln(k)}=\\frac{\\sigma_k}{k} .$$\n",
    "\n",
    "* Plot the values of *ln(k)* as a function of *1/T* with appropriate error bars. Note the values of the error bars at low *T* values. What do you expect the relative contribution of these data points to the linear fit to be?\n",
    "\n",
    "* Fit the data taking into account the error bars (recall the differences between functions *polyfit* and *curve_fit* in dealing with data point uncertainty). How do the results obtained via this procedure compare with the ones obtained via direct exponential fit?"
   ]
  },
  {
   "cell_type": "code",
   "execution_count": null,
   "metadata": {},
   "outputs": [],
   "source": []
  },
  {
   "cell_type": "code",
   "execution_count": null,
   "metadata": {},
   "outputs": [],
   "source": []
  },
  {
   "cell_type": "markdown",
   "metadata": {},
   "source": [
    "## Exercise 2"
   ]
  },
  {
   "cell_type": "markdown",
   "metadata": {},
   "source": [
    "The dataset in the CSV file <a href=\"anscombe.csv\">anscombe.csv</a> is formed by 4 sets of x and y values in the form\n",
    "\n",
    "<table>\n",
    "<tr><td colspan=2>Set 1</td><td colspan=2>Set 2</td><td colspan=2>Set 3</td><td colspan=2>Set 4</td></tr>\n",
    "<tr><td>x</td><td>y</td><td>x</td><td>y</td><td>x</td><td>y</td><td>x</td><td>y</td></tr>\n",
    "</table>\n",
    "\n",
    "* Load the data onto the notebook\n",
    "* Calculate the mean of x and y for all sets"
   ]
  },
  {
   "cell_type": "code",
   "execution_count": null,
   "metadata": {},
   "outputs": [],
   "source": []
  },
  {
   "cell_type": "code",
   "execution_count": null,
   "metadata": {},
   "outputs": [],
   "source": []
  },
  {
   "cell_type": "markdown",
   "metadata": {},
   "source": [
    "* Do a linear fit of y against x for each set."
   ]
  },
  {
   "cell_type": "code",
   "execution_count": null,
   "metadata": {},
   "outputs": [],
   "source": []
  },
  {
   "cell_type": "markdown",
   "metadata": {},
   "source": [
    "* To better organize the data, create an array of the form:\n",
    "\n",
    "$$\\begin{align}\\text{array}([&[\\bar{x}_1,\\bar{y}_1,m_1,b_1],\\\\&[\\bar{x}_2,\\bar{y}_2,m_2,b_2],\\\\&...])\\end{align}$$\n",
    "\n",
    "where m<sub>1</sub>, b<sub>1</sub>, etc. are respectively the slope and intercept of the fit to data set 1"
   ]
  },
  {
   "cell_type": "code",
   "execution_count": null,
   "metadata": {},
   "outputs": [],
   "source": []
  },
  {
   "cell_type": "markdown",
   "metadata": {},
   "source": [
    "Compare the values you obtained for each data set. Based on your analysis so far, could you conclude that the four sets of data correspond to the same experiment and agree with each other?\n",
    "\n",
    "* Plot your data along with your linear fit in each case."
   ]
  },
  {
   "cell_type": "code",
   "execution_count": null,
   "metadata": {},
   "outputs": [],
   "source": []
  },
  {
   "cell_type": "markdown",
   "metadata": {},
   "source": [
    "Would you now reach the same conclusion to the question above?\n",
    "\n",
    "*Conclusion: You should always plot your data! Do not blindly rely on statistical measures.*\n",
    "\n",
    "For which of the datasets is the linear fit meaningful? Plotting the residuals helps you answering this question."
   ]
  },
  {
   "cell_type": "code",
   "execution_count": null,
   "metadata": {},
   "outputs": [],
   "source": []
  }
 ],
 "metadata": {
  "kernelspec": {
   "display_name": "Python 3 (ipykernel)",
   "language": "python",
   "name": "python3"
  },
  "language_info": {
   "codemirror_mode": {
    "name": "ipython",
    "version": 3
   },
   "file_extension": ".py",
   "mimetype": "text/x-python",
   "name": "python",
   "nbconvert_exporter": "python",
   "pygments_lexer": "ipython3",
   "version": "3.11.2"
  }
 },
 "nbformat": 4,
 "nbformat_minor": 1
}
